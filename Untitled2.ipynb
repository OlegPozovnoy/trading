{
 "cells": [
  {
   "cell_type": "code",
   "execution_count": 6,
   "id": "ac676193",
   "metadata": {},
   "outputs": [
    {
     "data": {
      "text/plain": [
       "(3, 49)"
      ]
     },
     "execution_count": 6,
     "metadata": {},
     "output_type": "execute_result"
    }
   ],
   "source": [
    "import datetime\n",
    "import time\n",
    "dt = datetime.datetime.fromtimestamp(time.time())\n",
    "dt.hour, dt.minute"
   ]
  },
  {
   "cell_type": "code",
   "execution_count": 7,
   "id": "a42977fa",
   "metadata": {},
   "outputs": [],
   "source": [
    "\n",
    "\n",
    "my_datetime = datetime.datetime.strptime(\"09:00:00\", \"%H:%M:%S\")"
   ]
  },
  {
   "cell_type": "code",
   "execution_count": 8,
   "id": "acfb5f28",
   "metadata": {},
   "outputs": [
    {
     "data": {
      "text/plain": [
       "datetime.datetime(1900, 1, 1, 9, 0)"
      ]
     },
     "execution_count": 8,
     "metadata": {},
     "output_type": "execute_result"
    }
   ],
   "source": [
    "my_datetime"
   ]
  },
  {
   "cell_type": "code",
   "execution_count": 12,
   "id": "69b63c89",
   "metadata": {},
   "outputs": [
    {
     "data": {
      "text/plain": [
       "(True,)"
      ]
     },
     "execution_count": 12,
     "metadata": {},
     "output_type": "execute_result"
    }
   ],
   "source": [
    "now = datetime.datetime.now()\n",
    "\n",
    "start_str = \"09:00:00\"\n",
    "end_str = \"23:30:00\"\n",
    "\n",
    "    \n",
    "def compose_td_datetime(curr_time):\n",
    "    now = datetime.datetime.now()\n",
    "    my_datetime = datetime.datetime.strptime(curr_time, \"%H:%M:%S\").time()\n",
    "    return now.replace(hour=my_datetime.hour, minute=my_datetime.minute, second=my_datetime.second, microsecond=0)\n",
    "\n",
    "compose_td_datetime(start_str) > now, "
   ]
  },
  {
   "cell_type": "code",
   "execution_count": null,
   "id": "9647b8f9",
   "metadata": {},
   "outputs": [],
   "source": []
  }
 ],
 "metadata": {
  "kernelspec": {
   "display_name": "Python 3 (ipykernel)",
   "language": "python",
   "name": "python3"
  },
  "language_info": {
   "codemirror_mode": {
    "name": "ipython",
    "version": 3
   },
   "file_extension": ".py",
   "mimetype": "text/x-python",
   "name": "python",
   "nbconvert_exporter": "python",
   "pygments_lexer": "ipython3",
   "version": "3.10.6"
  }
 },
 "nbformat": 4,
 "nbformat_minor": 5
}
