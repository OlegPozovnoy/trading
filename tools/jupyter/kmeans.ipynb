{
 "cells": [
  {
   "cell_type": "code",
   "execution_count": null,
   "id": "a703aebd",
   "metadata": {},
   "outputs": [],
   "source": [
    "import pandas as pd\n",
    "import numpy as np\n",
    "import matplotlib.pyplot as plt"
   ]
  },
  {
   "cell_type": "code",
   "execution_count": null,
   "id": "3b86a569",
   "metadata": {},
   "outputs": [],
   "source": [
    "\n",
    "df = pd.read_csv('TQBR._M1.csv', sep='\\t')\n",
    "df['t'] = pd.to_datetime(df['datetime'], format = '%d.%m.%Y %H:%M')\n",
    "\n",
    "\n",
    "df = df[df['t'] > '2022-08-07']\n",
    "\n",
    "#df = df[(df['t'].dt.hour >= 10) & (df['t'].dt.hour < 19)]\n",
    "\n",
    "df = df[df['security'] == 'BSPBP']\n",
    "\n",
    "df = df.reset_index()"
   ]
  },
  {
   "cell_type": "code",
   "execution_count": null,
   "id": "f4637691",
   "metadata": {},
   "outputs": [],
   "source": [
    "df"
   ]
  },
  {
   "cell_type": "code",
   "execution_count": null,
   "id": "6bd96f40",
   "metadata": {},
   "outputs": [],
   "source": [
    "from sklearn.cluster import KMeans\n",
    "kmeans_kwargs = {\n",
    "     \"init\": \"random\",\n",
    "     \"n_init\": 10,\n",
    "     \"max_iter\": 300,\n",
    "     \"random_state\": 42,\n",
    "}\n",
    "\n",
    "sse = []\n",
    "for k in range(1, 11):\n",
    "   kmeans = KMeans(n_clusters=k, **kmeans_kwargs)\n",
    "   kmeans.fit(df[['close']])\n",
    "   sse.append(kmeans.inertia_)\n",
    "\n",
    "plt.plot(sse)"
   ]
  },
  {
   "cell_type": "code",
   "execution_count": null,
   "id": "acdb0f85",
   "metadata": {},
   "outputs": [],
   "source": [
    "from sklearn.metrics import silhouette_score\n",
    "silhouette_coefficients = []\n",
    "\n",
    "for k in range(2, 11):\n",
    "     kmeans = KMeans(n_clusters=k, **kmeans_kwargs)\n",
    "     kmeans.fit(df[['close']])\n",
    "     score = silhouette_score(df[['close']], kmeans.labels_)\n",
    "     silhouette_coefficients.append(score)\n",
    "    \n",
    "plt.plot(silhouette_coefficients)"
   ]
  }
 ],
 "metadata": {
  "kernelspec": {
   "display_name": "Python 3 (ipykernel)",
   "language": "python",
   "name": "python3"
  },
  "language_info": {
   "codemirror_mode": {
    "name": "ipython",
    "version": 3
   },
   "file_extension": ".py",
   "mimetype": "text/x-python",
   "name": "python",
   "nbconvert_exporter": "python",
   "pygments_lexer": "ipython3",
   "version": "3.10.4"
  }
 },
 "nbformat": 4,
 "nbformat_minor": 5
}
