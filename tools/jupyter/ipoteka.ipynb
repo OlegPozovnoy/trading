{
 "cells": [
  {
   "cell_type": "code",
   "execution_count": 13,
   "id": "df29e527",
   "metadata": {},
   "outputs": [],
   "source": [
    "import pandas as pd\n",
    "from datetime import date\n",
    "from dateutil.relativedelta import relativedelta"
   ]
  },
  {
   "cell_type": "code",
   "execution_count": 14,
   "id": "3cafa4d9",
   "metadata": {},
   "outputs": [],
   "source": [
    "amount = 66796\n",
    "last = date(2041,5,6)\n",
    "rate = 15.48 * 0.87"
   ]
  },
  {
   "cell_type": "code",
   "execution_count": 15,
   "id": "1fadb7c8",
   "metadata": {},
   "outputs": [],
   "source": [
    "dates = []\n",
    "\n",
    "while last > date.today():\n",
    "    dates.append(last)\n",
    "    last = last - relativedelta(months=1)\n",
    "    "
   ]
  },
  {
   "cell_type": "code",
   "execution_count": 16,
   "id": "82b9d8cd",
   "metadata": {},
   "outputs": [
    {
     "data": {
      "text/html": [
       "<div>\n",
       "<style scoped>\n",
       "    .dataframe tbody tr th:only-of-type {\n",
       "        vertical-align: middle;\n",
       "    }\n",
       "\n",
       "    .dataframe tbody tr th {\n",
       "        vertical-align: top;\n",
       "    }\n",
       "\n",
       "    .dataframe thead th {\n",
       "        text-align: right;\n",
       "    }\n",
       "</style>\n",
       "<table border=\"1\" class=\"dataframe\">\n",
       "  <thead>\n",
       "    <tr style=\"text-align: right;\">\n",
       "      <th></th>\n",
       "      <th>date</th>\n",
       "      <th>sum</th>\n",
       "      <th>until_payment</th>\n",
       "      <th>df</th>\n",
       "      <th>npv</th>\n",
       "      <th>dur</th>\n",
       "    </tr>\n",
       "  </thead>\n",
       "  <tbody>\n",
       "    <tr>\n",
       "      <th>0</th>\n",
       "      <td>2041-05-06</td>\n",
       "      <td>66796</td>\n",
       "      <td>16.649315</td>\n",
       "      <td>0.122017</td>\n",
       "      <td>8150.259194</td>\n",
       "      <td>1.790381</td>\n",
       "    </tr>\n",
       "    <tr>\n",
       "      <th>1</th>\n",
       "      <td>2041-04-06</td>\n",
       "      <td>66796</td>\n",
       "      <td>16.567123</td>\n",
       "      <td>0.123291</td>\n",
       "      <td>8235.338162</td>\n",
       "      <td>1.800140</td>\n",
       "    </tr>\n",
       "    <tr>\n",
       "      <th>2</th>\n",
       "      <td>2041-03-06</td>\n",
       "      <td>66796</td>\n",
       "      <td>16.482192</td>\n",
       "      <td>0.124621</td>\n",
       "      <td>8324.186225</td>\n",
       "      <td>1.810233</td>\n",
       "    </tr>\n",
       "    <tr>\n",
       "      <th>3</th>\n",
       "      <td>2041-02-06</td>\n",
       "      <td>66796</td>\n",
       "      <td>16.405479</td>\n",
       "      <td>0.125835</td>\n",
       "      <td>8405.259697</td>\n",
       "      <td>1.819356</td>\n",
       "    </tr>\n",
       "    <tr>\n",
       "      <th>4</th>\n",
       "      <td>2041-01-06</td>\n",
       "      <td>66796</td>\n",
       "      <td>16.320548</td>\n",
       "      <td>0.127192</td>\n",
       "      <td>8495.940982</td>\n",
       "      <td>1.829464</td>\n",
       "    </tr>\n",
       "    <tr>\n",
       "      <th>...</th>\n",
       "      <td>...</td>\n",
       "      <td>...</td>\n",
       "      <td>...</td>\n",
       "      <td>...</td>\n",
       "      <td>...</td>\n",
       "      <td>...</td>\n",
       "    </tr>\n",
       "    <tr>\n",
       "      <th>195</th>\n",
       "      <td>2025-02-06</td>\n",
       "      <td>66796</td>\n",
       "      <td>0.394521</td>\n",
       "      <td>0.951375</td>\n",
       "      <td>63548.071602</td>\n",
       "      <td>0.330788</td>\n",
       "    </tr>\n",
       "    <tr>\n",
       "      <th>196</th>\n",
       "      <td>2025-01-06</td>\n",
       "      <td>66796</td>\n",
       "      <td>0.309589</td>\n",
       "      <td>0.961639</td>\n",
       "      <td>64233.668599</td>\n",
       "      <td>0.262377</td>\n",
       "    </tr>\n",
       "    <tr>\n",
       "      <th>197</th>\n",
       "      <td>2024-12-06</td>\n",
       "      <td>66796</td>\n",
       "      <td>0.224658</td>\n",
       "      <td>0.972014</td>\n",
       "      <td>64926.662252</td>\n",
       "      <td>0.192452</td>\n",
       "    </tr>\n",
       "    <tr>\n",
       "      <th>198</th>\n",
       "      <td>2024-11-06</td>\n",
       "      <td>66796</td>\n",
       "      <td>0.142466</td>\n",
       "      <td>0.982161</td>\n",
       "      <td>65604.419029</td>\n",
       "      <td>0.123317</td>\n",
       "    </tr>\n",
       "    <tr>\n",
       "      <th>199</th>\n",
       "      <td>2024-10-06</td>\n",
       "      <td>66796</td>\n",
       "      <td>0.057534</td>\n",
       "      <td>0.992757</td>\n",
       "      <td>66312.201209</td>\n",
       "      <td>0.050338</td>\n",
       "    </tr>\n",
       "  </tbody>\n",
       "</table>\n",
       "<p>200 rows × 6 columns</p>\n",
       "</div>"
      ],
      "text/plain": [
       "           date    sum  until_payment        df           npv       dur\n",
       "0    2041-05-06  66796      16.649315  0.122017   8150.259194  1.790381\n",
       "1    2041-04-06  66796      16.567123  0.123291   8235.338162  1.800140\n",
       "2    2041-03-06  66796      16.482192  0.124621   8324.186225  1.810233\n",
       "3    2041-02-06  66796      16.405479  0.125835   8405.259697  1.819356\n",
       "4    2041-01-06  66796      16.320548  0.127192   8495.940982  1.829464\n",
       "..          ...    ...            ...       ...           ...       ...\n",
       "195  2025-02-06  66796       0.394521  0.951375  63548.071602  0.330788\n",
       "196  2025-01-06  66796       0.309589  0.961639  64233.668599  0.262377\n",
       "197  2024-12-06  66796       0.224658  0.972014  64926.662252  0.192452\n",
       "198  2024-11-06  66796       0.142466  0.982161  65604.419029  0.123317\n",
       "199  2024-10-06  66796       0.057534  0.992757  66312.201209  0.050338\n",
       "\n",
       "[200 rows x 6 columns]"
      ]
     },
     "execution_count": 16,
     "metadata": {},
     "output_type": "execute_result"
    }
   ],
   "source": [
    "df = pd.DataFrame(dates, columns=[\"date\"])\n",
    "\n",
    "df['sum'] = amount\n",
    "df['until_payment'] = [x.days/365 for x in df['date']- date.today()]\n",
    "df['df'] = 1./pow(1+rate/100, df['until_payment'])\n",
    "df['npv'] = df['sum'] * df['df']\n",
    "df['dur'] = df['df'] * df['until_payment'] / (1+rate/100)\n",
    "df"
   ]
  },
  {
   "cell_type": "code",
   "execution_count": 11,
   "id": "b98b4a0e",
   "metadata": {},
   "outputs": [],
   "source": [
    "npv = df.npv.sum()\n",
    "duration = df.dur.sum()/df.df.sum()"
   ]
  },
  {
   "cell_type": "code",
   "execution_count": 12,
   "id": "4bc9135d",
   "metadata": {},
   "outputs": [
    {
     "data": {
      "text/plain": [
       "(5406550.842864072, 4.848245512340314, 2912476.206795053)"
      ]
     },
     "execution_count": 12,
     "metadata": {},
     "output_type": "execute_result"
    }
   ],
   "source": [
    "npv, duration, npv*duration/9"
   ]
  },
  {
   "cell_type": "code",
   "execution_count": null,
   "id": "d899ea91",
   "metadata": {},
   "outputs": [],
   "source": []
  }
 ],
 "metadata": {
  "kernelspec": {
   "display_name": "Python 3 (ipykernel)",
   "language": "python",
   "name": "python3"
  },
  "language_info": {
   "codemirror_mode": {
    "name": "ipython",
    "version": 3
   },
   "file_extension": ".py",
   "mimetype": "text/x-python",
   "name": "python",
   "nbconvert_exporter": "python",
   "pygments_lexer": "ipython3",
   "version": "3.10.15"
  }
 },
 "nbformat": 4,
 "nbformat_minor": 5
}
