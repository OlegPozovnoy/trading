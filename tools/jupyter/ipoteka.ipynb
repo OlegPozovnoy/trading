{
 "cells": [
  {
   "cell_type": "code",
   "execution_count": 1,
   "id": "df29e527",
   "metadata": {},
   "outputs": [],
   "source": [
    "import pandas as pd\n",
    "from datetime import date\n",
    "from dateutil.relativedelta import relativedelta"
   ]
  },
  {
   "cell_type": "code",
   "execution_count": 2,
   "id": "3cafa4d9",
   "metadata": {},
   "outputs": [],
   "source": [
    "amount = 66796\n",
    "last = date(2041,5,6)\n",
    "rate = 11.73 * 0.87"
   ]
  },
  {
   "cell_type": "code",
   "execution_count": 3,
   "id": "1fadb7c8",
   "metadata": {},
   "outputs": [],
   "source": [
    "dates = []\n",
    "\n",
    "while last > date.today():\n",
    "    dates.append(last)\n",
    "    last = last - relativedelta(months=1)\n",
    "    "
   ]
  },
  {
   "cell_type": "code",
   "execution_count": 4,
   "id": "82b9d8cd",
   "metadata": {},
   "outputs": [
    {
     "data": {
      "text/html": [
       "<div>\n",
       "<style scoped>\n",
       "    .dataframe tbody tr th:only-of-type {\n",
       "        vertical-align: middle;\n",
       "    }\n",
       "\n",
       "    .dataframe tbody tr th {\n",
       "        vertical-align: top;\n",
       "    }\n",
       "\n",
       "    .dataframe thead th {\n",
       "        text-align: right;\n",
       "    }\n",
       "</style>\n",
       "<table border=\"1\" class=\"dataframe\">\n",
       "  <thead>\n",
       "    <tr style=\"text-align: right;\">\n",
       "      <th></th>\n",
       "      <th>date</th>\n",
       "      <th>sum</th>\n",
       "      <th>until_payment</th>\n",
       "      <th>df</th>\n",
       "      <th>npv</th>\n",
       "      <th>dur</th>\n",
       "    </tr>\n",
       "  </thead>\n",
       "  <tbody>\n",
       "    <tr>\n",
       "      <th>0</th>\n",
       "      <td>2041-05-06</td>\n",
       "      <td>66796</td>\n",
       "      <td>17.627397</td>\n",
       "      <td>0.180341</td>\n",
       "      <td>12046.044102</td>\n",
       "      <td>2.884566</td>\n",
       "    </tr>\n",
       "    <tr>\n",
       "      <th>1</th>\n",
       "      <td>2041-04-06</td>\n",
       "      <td>66796</td>\n",
       "      <td>17.545205</td>\n",
       "      <td>0.181787</td>\n",
       "      <td>12142.638930</td>\n",
       "      <td>2.894139</td>\n",
       "    </tr>\n",
       "    <tr>\n",
       "      <th>2</th>\n",
       "      <td>2041-03-06</td>\n",
       "      <td>66796</td>\n",
       "      <td>17.460274</td>\n",
       "      <td>0.183293</td>\n",
       "      <td>12243.267391</td>\n",
       "      <td>2.903998</td>\n",
       "    </tr>\n",
       "    <tr>\n",
       "      <th>3</th>\n",
       "      <td>2041-02-06</td>\n",
       "      <td>66796</td>\n",
       "      <td>17.383562</td>\n",
       "      <td>0.184665</td>\n",
       "      <td>12334.874202</td>\n",
       "      <td>2.912872</td>\n",
       "    </tr>\n",
       "    <tr>\n",
       "      <th>4</th>\n",
       "      <td>2041-01-06</td>\n",
       "      <td>66796</td>\n",
       "      <td>17.298630</td>\n",
       "      <td>0.186195</td>\n",
       "      <td>12437.095755</td>\n",
       "      <td>2.922662</td>\n",
       "    </tr>\n",
       "    <tr>\n",
       "      <th>...</th>\n",
       "      <td>...</td>\n",
       "      <td>...</td>\n",
       "      <td>...</td>\n",
       "      <td>...</td>\n",
       "      <td>...</td>\n",
       "      <td>...</td>\n",
       "    </tr>\n",
       "    <tr>\n",
       "      <th>207</th>\n",
       "      <td>2024-02-06</td>\n",
       "      <td>66796</td>\n",
       "      <td>0.369863</td>\n",
       "      <td>0.964698</td>\n",
       "      <td>64437.934447</td>\n",
       "      <td>0.323765</td>\n",
       "    </tr>\n",
       "    <tr>\n",
       "      <th>208</th>\n",
       "      <td>2024-01-06</td>\n",
       "      <td>66796</td>\n",
       "      <td>0.284932</td>\n",
       "      <td>0.972692</td>\n",
       "      <td>64971.944412</td>\n",
       "      <td>0.251486</td>\n",
       "    </tr>\n",
       "    <tr>\n",
       "      <th>209</th>\n",
       "      <td>2023-12-06</td>\n",
       "      <td>66796</td>\n",
       "      <td>0.200000</td>\n",
       "      <td>0.980753</td>\n",
       "      <td>65510.379824</td>\n",
       "      <td>0.177987</td>\n",
       "    </tr>\n",
       "    <tr>\n",
       "      <th>210</th>\n",
       "      <td>2023-11-06</td>\n",
       "      <td>66796</td>\n",
       "      <td>0.117808</td>\n",
       "      <td>0.988617</td>\n",
       "      <td>66035.694508</td>\n",
       "      <td>0.105682</td>\n",
       "    </tr>\n",
       "    <tr>\n",
       "      <th>211</th>\n",
       "      <td>2023-10-06</td>\n",
       "      <td>66796</td>\n",
       "      <td>0.032877</td>\n",
       "      <td>0.996810</td>\n",
       "      <td>66582.945428</td>\n",
       "      <td>0.029737</td>\n",
       "    </tr>\n",
       "  </tbody>\n",
       "</table>\n",
       "<p>212 rows × 6 columns</p>\n",
       "</div>"
      ],
      "text/plain": [
       "           date    sum  until_payment        df           npv       dur\n",
       "0    2041-05-06  66796      17.627397  0.180341  12046.044102  2.884566\n",
       "1    2041-04-06  66796      17.545205  0.181787  12142.638930  2.894139\n",
       "2    2041-03-06  66796      17.460274  0.183293  12243.267391  2.903998\n",
       "3    2041-02-06  66796      17.383562  0.184665  12334.874202  2.912872\n",
       "4    2041-01-06  66796      17.298630  0.186195  12437.095755  2.922662\n",
       "..          ...    ...            ...       ...           ...       ...\n",
       "207  2024-02-06  66796       0.369863  0.964698  64437.934447  0.323765\n",
       "208  2024-01-06  66796       0.284932  0.972692  64971.944412  0.251486\n",
       "209  2023-12-06  66796       0.200000  0.980753  65510.379824  0.177987\n",
       "210  2023-11-06  66796       0.117808  0.988617  66035.694508  0.105682\n",
       "211  2023-10-06  66796       0.032877  0.996810  66582.945428  0.029737\n",
       "\n",
       "[212 rows x 6 columns]"
      ]
     },
     "execution_count": 4,
     "metadata": {},
     "output_type": "execute_result"
    }
   ],
   "source": [
    "df = pd.DataFrame(dates, columns=[\"date\"])\n",
    "\n",
    "df['sum'] = amount\n",
    "df['until_payment'] = [x.days/365 for x in df['date']- date.today()]\n",
    "df['df'] = 1./pow(1+rate/100, df['until_payment'])\n",
    "df['npv'] = df['sum'] * df['df']\n",
    "df['dur'] = df['df'] * df['until_payment'] / (1+rate/100)\n",
    "df"
   ]
  },
  {
   "cell_type": "code",
   "execution_count": 5,
   "id": "b98b4a0e",
   "metadata": {},
   "outputs": [],
   "source": [
    "npv = df.npv.sum()\n",
    "duration = df.dur.sum()/df.df.sum()"
   ]
  },
  {
   "cell_type": "code",
   "execution_count": 6,
   "id": "4bc9135d",
   "metadata": {},
   "outputs": [
    {
     "data": {
      "text/plain": [
       "(6768983.126405397, 5.822962124400652, 4379503.596196193)"
      ]
     },
     "execution_count": 6,
     "metadata": {},
     "output_type": "execute_result"
    }
   ],
   "source": [
    "npv, duration, npv*duration/9"
   ]
  },
  {
   "cell_type": "code",
   "execution_count": null,
   "id": "d899ea91",
   "metadata": {},
   "outputs": [],
   "source": []
  }
 ],
 "metadata": {
  "kernelspec": {
   "display_name": "Python 3 (ipykernel)",
   "language": "python",
   "name": "python3"
  },
  "language_info": {
   "codemirror_mode": {
    "name": "ipython",
    "version": 3
   },
   "file_extension": ".py",
   "mimetype": "text/x-python",
   "name": "python",
   "nbconvert_exporter": "python",
   "pygments_lexer": "ipython3",
   "version": "3.10.12"
  }
 },
 "nbformat": 4,
 "nbformat_minor": 5
}
