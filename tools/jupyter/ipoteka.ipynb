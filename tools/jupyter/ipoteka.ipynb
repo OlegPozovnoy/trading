{
 "cells": [
  {
   "cell_type": "code",
   "execution_count": 7,
   "id": "df29e527",
   "metadata": {},
   "outputs": [],
   "source": [
    "import pandas as pd\n",
    "from datetime import date\n",
    "from dateutil.relativedelta import relativedelta"
   ]
  },
  {
   "cell_type": "code",
   "execution_count": 8,
   "id": "3cafa4d9",
   "metadata": {},
   "outputs": [],
   "source": [
    "amount = 66796\n",
    "last = date(2041,5,6)\n",
    "rate = 15.1 * 0.87"
   ]
  },
  {
   "cell_type": "code",
   "execution_count": 9,
   "id": "1fadb7c8",
   "metadata": {},
   "outputs": [],
   "source": [
    "dates = []\n",
    "\n",
    "while last > date.today():\n",
    "    dates.append(last)\n",
    "    last = last - relativedelta(months=1)\n",
    "    "
   ]
  },
  {
   "cell_type": "code",
   "execution_count": 10,
   "id": "82b9d8cd",
   "metadata": {},
   "outputs": [
    {
     "data": {
      "text/html": [
       "<div>\n",
       "<style scoped>\n",
       "    .dataframe tbody tr th:only-of-type {\n",
       "        vertical-align: middle;\n",
       "    }\n",
       "\n",
       "    .dataframe tbody tr th {\n",
       "        vertical-align: top;\n",
       "    }\n",
       "\n",
       "    .dataframe thead th {\n",
       "        text-align: right;\n",
       "    }\n",
       "</style>\n",
       "<table border=\"1\" class=\"dataframe\">\n",
       "  <thead>\n",
       "    <tr style=\"text-align: right;\">\n",
       "      <th></th>\n",
       "      <th>date</th>\n",
       "      <th>sum</th>\n",
       "      <th>until_payment</th>\n",
       "      <th>df</th>\n",
       "      <th>npv</th>\n",
       "      <th>dur</th>\n",
       "    </tr>\n",
       "  </thead>\n",
       "  <tbody>\n",
       "    <tr>\n",
       "      <th>0</th>\n",
       "      <td>2041-05-06</td>\n",
       "      <td>66796</td>\n",
       "      <td>16.945205</td>\n",
       "      <td>0.130116</td>\n",
       "      <td>8691.199170</td>\n",
       "      <td>1.954832</td>\n",
       "    </tr>\n",
       "    <tr>\n",
       "      <th>1</th>\n",
       "      <td>2041-04-06</td>\n",
       "      <td>66796</td>\n",
       "      <td>16.863014</td>\n",
       "      <td>0.131409</td>\n",
       "      <td>8777.596230</td>\n",
       "      <td>1.964688</td>\n",
       "    </tr>\n",
       "    <tr>\n",
       "      <th>2</th>\n",
       "      <td>2041-03-06</td>\n",
       "      <td>66796</td>\n",
       "      <td>16.778082</td>\n",
       "      <td>0.132759</td>\n",
       "      <td>8867.775563</td>\n",
       "      <td>1.974876</td>\n",
       "    </tr>\n",
       "    <tr>\n",
       "      <th>3</th>\n",
       "      <td>2041-02-06</td>\n",
       "      <td>66796</td>\n",
       "      <td>16.701370</td>\n",
       "      <td>0.133990</td>\n",
       "      <td>8950.023934</td>\n",
       "      <td>1.984080</td>\n",
       "    </tr>\n",
       "    <tr>\n",
       "      <th>4</th>\n",
       "      <td>2041-01-06</td>\n",
       "      <td>66796</td>\n",
       "      <td>16.616438</td>\n",
       "      <td>0.135367</td>\n",
       "      <td>9041.974756</td>\n",
       "      <td>1.994270</td>\n",
       "    </tr>\n",
       "    <tr>\n",
       "      <th>...</th>\n",
       "      <td>...</td>\n",
       "      <td>...</td>\n",
       "      <td>...</td>\n",
       "      <td>...</td>\n",
       "      <td>...</td>\n",
       "      <td>...</td>\n",
       "    </tr>\n",
       "    <tr>\n",
       "      <th>199</th>\n",
       "      <td>2024-10-06</td>\n",
       "      <td>66796</td>\n",
       "      <td>0.353425</td>\n",
       "      <td>0.958358</td>\n",
       "      <td>64014.461896</td>\n",
       "      <td>0.300302</td>\n",
       "    </tr>\n",
       "    <tr>\n",
       "      <th>200</th>\n",
       "      <td>2024-09-06</td>\n",
       "      <td>66796</td>\n",
       "      <td>0.271233</td>\n",
       "      <td>0.967885</td>\n",
       "      <td>64650.813820</td>\n",
       "      <td>0.232755</td>\n",
       "    </tr>\n",
       "    <tr>\n",
       "      <th>201</th>\n",
       "      <td>2024-08-06</td>\n",
       "      <td>66796</td>\n",
       "      <td>0.186301</td>\n",
       "      <td>0.977828</td>\n",
       "      <td>65315.023829</td>\n",
       "      <td>0.161515</td>\n",
       "    </tr>\n",
       "    <tr>\n",
       "      <th>202</th>\n",
       "      <td>2024-07-06</td>\n",
       "      <td>66796</td>\n",
       "      <td>0.101370</td>\n",
       "      <td>0.987874</td>\n",
       "      <td>65986.057804</td>\n",
       "      <td>0.088786</td>\n",
       "    </tr>\n",
       "    <tr>\n",
       "      <th>203</th>\n",
       "      <td>2024-06-06</td>\n",
       "      <td>66796</td>\n",
       "      <td>0.019178</td>\n",
       "      <td>0.997695</td>\n",
       "      <td>66642.008875</td>\n",
       "      <td>0.016964</td>\n",
       "    </tr>\n",
       "  </tbody>\n",
       "</table>\n",
       "<p>204 rows × 6 columns</p>\n",
       "</div>"
      ],
      "text/plain": [
       "           date    sum  until_payment        df           npv       dur\n",
       "0    2041-05-06  66796      16.945205  0.130116   8691.199170  1.954832\n",
       "1    2041-04-06  66796      16.863014  0.131409   8777.596230  1.964688\n",
       "2    2041-03-06  66796      16.778082  0.132759   8867.775563  1.974876\n",
       "3    2041-02-06  66796      16.701370  0.133990   8950.023934  1.984080\n",
       "4    2041-01-06  66796      16.616438  0.135367   9041.974756  1.994270\n",
       "..          ...    ...            ...       ...           ...       ...\n",
       "199  2024-10-06  66796       0.353425  0.958358  64014.461896  0.300302\n",
       "200  2024-09-06  66796       0.271233  0.967885  64650.813820  0.232755\n",
       "201  2024-08-06  66796       0.186301  0.977828  65315.023829  0.161515\n",
       "202  2024-07-06  66796       0.101370  0.987874  65986.057804  0.088786\n",
       "203  2024-06-06  66796       0.019178  0.997695  66642.008875  0.016964\n",
       "\n",
       "[204 rows x 6 columns]"
      ]
     },
     "execution_count": 10,
     "metadata": {},
     "output_type": "execute_result"
    }
   ],
   "source": [
    "df = pd.DataFrame(dates, columns=[\"date\"])\n",
    "\n",
    "df['sum'] = amount\n",
    "df['until_payment'] = [x.days/365 for x in df['date']- date.today()]\n",
    "df['df'] = 1./pow(1+rate/100, df['until_payment'])\n",
    "df['npv'] = df['sum'] * df['df']\n",
    "df['dur'] = df['df'] * df['until_payment'] / (1+rate/100)\n",
    "df"
   ]
  },
  {
   "cell_type": "code",
   "execution_count": 11,
   "id": "b98b4a0e",
   "metadata": {},
   "outputs": [],
   "source": [
    "npv = df.npv.sum()\n",
    "duration = df.dur.sum()/df.df.sum()"
   ]
  },
  {
   "cell_type": "code",
   "execution_count": 12,
   "id": "4bc9135d",
   "metadata": {},
   "outputs": [
    {
     "data": {
      "text/plain": [
       "(5812479.269208534, 5.111514221590712, 3301174.4941400676)"
      ]
     },
     "execution_count": 12,
     "metadata": {},
     "output_type": "execute_result"
    }
   ],
   "source": [
    "npv, duration, npv*duration/9"
   ]
  },
  {
   "cell_type": "code",
   "execution_count": null,
   "id": "d899ea91",
   "metadata": {},
   "outputs": [],
   "source": []
  }
 ],
 "metadata": {
  "kernelspec": {
   "display_name": "Python 3 (ipykernel)",
   "language": "python",
   "name": "python3"
  },
  "language_info": {
   "codemirror_mode": {
    "name": "ipython",
    "version": 3
   },
   "file_extension": ".py",
   "mimetype": "text/x-python",
   "name": "python",
   "nbconvert_exporter": "python",
   "pygments_lexer": "ipython3",
   "version": "3.10.12"
  }
 },
 "nbformat": 4,
 "nbformat_minor": 5
}
