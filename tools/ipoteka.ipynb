{
 "cells": [
  {
   "cell_type": "code",
   "execution_count": 1,
   "id": "df29e527",
   "metadata": {},
   "outputs": [],
   "source": [
    "import pandas as pd\n",
    "from datetime import date\n",
    "from dateutil.relativedelta import relativedelta"
   ]
  },
  {
   "cell_type": "code",
   "execution_count": 2,
   "id": "3cafa4d9",
   "metadata": {},
   "outputs": [],
   "source": [
    "amount = 66796\n",
    "last = date(2041,5,6)\n",
    "rate = 10.74 * 0.87"
   ]
  },
  {
   "cell_type": "code",
   "execution_count": 3,
   "id": "1fadb7c8",
   "metadata": {},
   "outputs": [],
   "source": [
    "dates = []\n",
    "\n",
    "while last > date.today():\n",
    "    dates.append(last)\n",
    "    last = last - relativedelta(months=1)\n",
    "    "
   ]
  },
  {
   "cell_type": "code",
   "execution_count": 4,
   "id": "82b9d8cd",
   "metadata": {},
   "outputs": [
    {
     "data": {
      "text/html": [
       "<div>\n",
       "<style scoped>\n",
       "    .dataframe tbody tr th:only-of-type {\n",
       "        vertical-align: middle;\n",
       "    }\n",
       "\n",
       "    .dataframe tbody tr th {\n",
       "        vertical-align: top;\n",
       "    }\n",
       "\n",
       "    .dataframe thead th {\n",
       "        text-align: right;\n",
       "    }\n",
       "</style>\n",
       "<table border=\"1\" class=\"dataframe\">\n",
       "  <thead>\n",
       "    <tr style=\"text-align: right;\">\n",
       "      <th></th>\n",
       "      <th>date</th>\n",
       "      <th>sum</th>\n",
       "      <th>until_payment</th>\n",
       "      <th>df</th>\n",
       "      <th>npv</th>\n",
       "      <th>dur</th>\n",
       "    </tr>\n",
       "  </thead>\n",
       "  <tbody>\n",
       "    <tr>\n",
       "      <th>0</th>\n",
       "      <td>2041-05-06</td>\n",
       "      <td>66796</td>\n",
       "      <td>18.216438</td>\n",
       "      <td>0.196476</td>\n",
       "      <td>13123.781213</td>\n",
       "      <td>3.273240</td>\n",
       "    </tr>\n",
       "    <tr>\n",
       "      <th>1</th>\n",
       "      <td>2041-04-06</td>\n",
       "      <td>66796</td>\n",
       "      <td>18.134247</td>\n",
       "      <td>0.197923</td>\n",
       "      <td>13220.489725</td>\n",
       "      <td>3.282483</td>\n",
       "    </tr>\n",
       "    <tr>\n",
       "      <th>2</th>\n",
       "      <td>2041-03-06</td>\n",
       "      <td>66796</td>\n",
       "      <td>18.049315</td>\n",
       "      <td>0.199431</td>\n",
       "      <td>13321.170583</td>\n",
       "      <td>3.291990</td>\n",
       "    </tr>\n",
       "    <tr>\n",
       "      <th>3</th>\n",
       "      <td>2041-02-06</td>\n",
       "      <td>66796</td>\n",
       "      <td>17.972603</td>\n",
       "      <td>0.200802</td>\n",
       "      <td>13412.766998</td>\n",
       "      <td>3.300538</td>\n",
       "    </tr>\n",
       "    <tr>\n",
       "      <th>4</th>\n",
       "      <td>2041-01-06</td>\n",
       "      <td>66796</td>\n",
       "      <td>17.887671</td>\n",
       "      <td>0.202331</td>\n",
       "      <td>13514.912147</td>\n",
       "      <td>3.309957</td>\n",
       "    </tr>\n",
       "    <tr>\n",
       "      <th>...</th>\n",
       "      <td>...</td>\n",
       "      <td>...</td>\n",
       "      <td>...</td>\n",
       "      <td>...</td>\n",
       "      <td>...</td>\n",
       "      <td>...</td>\n",
       "    </tr>\n",
       "    <tr>\n",
       "      <th>214</th>\n",
       "      <td>2023-07-06</td>\n",
       "      <td>66796</td>\n",
       "      <td>0.369863</td>\n",
       "      <td>0.967501</td>\n",
       "      <td>64625.204456</td>\n",
       "      <td>0.327264</td>\n",
       "    </tr>\n",
       "    <tr>\n",
       "      <th>215</th>\n",
       "      <td>2023-06-06</td>\n",
       "      <td>66796</td>\n",
       "      <td>0.287671</td>\n",
       "      <td>0.974631</td>\n",
       "      <td>65101.424476</td>\n",
       "      <td>0.256414</td>\n",
       "    </tr>\n",
       "    <tr>\n",
       "      <th>216</th>\n",
       "      <td>2023-05-06</td>\n",
       "      <td>66796</td>\n",
       "      <td>0.202740</td>\n",
       "      <td>0.982053</td>\n",
       "      <td>65597.205451</td>\n",
       "      <td>0.182087</td>\n",
       "    </tr>\n",
       "    <tr>\n",
       "      <th>217</th>\n",
       "      <td>2023-04-06</td>\n",
       "      <td>66796</td>\n",
       "      <td>0.120548</td>\n",
       "      <td>0.989290</td>\n",
       "      <td>66080.588099</td>\n",
       "      <td>0.109066</td>\n",
       "    </tr>\n",
       "    <tr>\n",
       "      <th>218</th>\n",
       "      <td>2023-03-06</td>\n",
       "      <td>66796</td>\n",
       "      <td>0.035616</td>\n",
       "      <td>0.996824</td>\n",
       "      <td>66583.825912</td>\n",
       "      <td>0.032469</td>\n",
       "    </tr>\n",
       "  </tbody>\n",
       "</table>\n",
       "<p>219 rows × 6 columns</p>\n",
       "</div>"
      ],
      "text/plain": [
       "           date    sum  until_payment        df           npv       dur\n",
       "0    2041-05-06  66796      18.216438  0.196476  13123.781213  3.273240\n",
       "1    2041-04-06  66796      18.134247  0.197923  13220.489725  3.282483\n",
       "2    2041-03-06  66796      18.049315  0.199431  13321.170583  3.291990\n",
       "3    2041-02-06  66796      17.972603  0.200802  13412.766998  3.300538\n",
       "4    2041-01-06  66796      17.887671  0.202331  13514.912147  3.309957\n",
       "..          ...    ...            ...       ...           ...       ...\n",
       "214  2023-07-06  66796       0.369863  0.967501  64625.204456  0.327264\n",
       "215  2023-06-06  66796       0.287671  0.974631  65101.424476  0.256414\n",
       "216  2023-05-06  66796       0.202740  0.982053  65597.205451  0.182087\n",
       "217  2023-04-06  66796       0.120548  0.989290  66080.588099  0.109066\n",
       "218  2023-03-06  66796       0.035616  0.996824  66583.825912  0.032469\n",
       "\n",
       "[219 rows x 6 columns]"
      ]
     },
     "execution_count": 4,
     "metadata": {},
     "output_type": "execute_result"
    }
   ],
   "source": [
    "df = pd.DataFrame(dates, columns=[\"date\"])\n",
    "\n",
    "df['sum'] = amount\n",
    "df['until_payment'] = [x.days/365 for x in df['date']- date.today()]\n",
    "df['df'] = 1./pow(1+rate/100, df['until_payment'])\n",
    "df['npv'] = df['sum'] * df['df']\n",
    "df['dur'] = df['df'] * df['until_payment'] / (1+rate/100)\n",
    "df"
   ]
  },
  {
   "cell_type": "code",
   "execution_count": 5,
   "id": "b98b4a0e",
   "metadata": {},
   "outputs": [],
   "source": [
    "npv = df.npv.sum()\n",
    "duration = df.dur.sum()/df.df.sum()"
   ]
  },
  {
   "cell_type": "code",
   "execution_count": 6,
   "id": "4bc9135d",
   "metadata": {},
   "outputs": [
    {
     "data": {
      "text/plain": [
       "(7214167.616951116, 6.172789428789828, 4947948.622603751)"
      ]
     },
     "execution_count": 6,
     "metadata": {},
     "output_type": "execute_result"
    }
   ],
   "source": [
    "npv, duration, npv*duration/9"
   ]
  },
  {
   "cell_type": "code",
   "execution_count": null,
   "id": "d899ea91",
   "metadata": {},
   "outputs": [],
   "source": []
  }
 ],
 "metadata": {
  "kernelspec": {
   "display_name": "Python 3 (ipykernel)",
   "language": "python",
   "name": "python3"
  },
  "language_info": {
   "codemirror_mode": {
    "name": "ipython",
    "version": 3
   },
   "file_extension": ".py",
   "mimetype": "text/x-python",
   "name": "python",
   "nbconvert_exporter": "python",
   "pygments_lexer": "ipython3",
   "version": "3.10.6"
  }
 },
 "nbformat": 4,
 "nbformat_minor": 5
}
