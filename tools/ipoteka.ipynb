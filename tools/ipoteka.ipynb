{
 "cells": [
  {
   "cell_type": "code",
   "execution_count": 43,
   "id": "df29e527",
   "metadata": {},
   "outputs": [],
   "source": [
    "import pandas as pd\n",
    "from datetime import date\n",
    "from dateutil.relativedelta import relativedelta"
   ]
  },
  {
   "cell_type": "code",
   "execution_count": 44,
   "id": "3cafa4d9",
   "metadata": {},
   "outputs": [],
   "source": [
    "amount = 66796\n",
    "last = date(2041,5,6)\n",
    "rate = 10.4 * 0.87"
   ]
  },
  {
   "cell_type": "code",
   "execution_count": 45,
   "id": "1fadb7c8",
   "metadata": {},
   "outputs": [],
   "source": [
    "dates = []\n",
    "\n",
    "while last > date.today():\n",
    "    dates.append(last)\n",
    "    last = last - relativedelta(months=1)\n",
    "    "
   ]
  },
  {
   "cell_type": "code",
   "execution_count": 46,
   "id": "82b9d8cd",
   "metadata": {},
   "outputs": [
    {
     "data": {
      "text/html": [
       "<div>\n",
       "<style scoped>\n",
       "    .dataframe tbody tr th:only-of-type {\n",
       "        vertical-align: middle;\n",
       "    }\n",
       "\n",
       "    .dataframe tbody tr th {\n",
       "        vertical-align: top;\n",
       "    }\n",
       "\n",
       "    .dataframe thead th {\n",
       "        text-align: right;\n",
       "    }\n",
       "</style>\n",
       "<table border=\"1\" class=\"dataframe\">\n",
       "  <thead>\n",
       "    <tr style=\"text-align: right;\">\n",
       "      <th></th>\n",
       "      <th>date</th>\n",
       "      <th>sum</th>\n",
       "      <th>until_payment</th>\n",
       "      <th>df</th>\n",
       "      <th>npv</th>\n",
       "      <th>dur</th>\n",
       "    </tr>\n",
       "  </thead>\n",
       "  <tbody>\n",
       "    <tr>\n",
       "      <th>0</th>\n",
       "      <td>2041-05-06</td>\n",
       "      <td>66796</td>\n",
       "      <td>18.271233</td>\n",
       "      <td>0.205437</td>\n",
       "      <td>13722.353772</td>\n",
       "      <td>3.442138</td>\n",
       "    </tr>\n",
       "    <tr>\n",
       "      <th>1</th>\n",
       "      <td>2041-04-06</td>\n",
       "      <td>66796</td>\n",
       "      <td>18.189041</td>\n",
       "      <td>0.206905</td>\n",
       "      <td>13820.395698</td>\n",
       "      <td>3.451136</td>\n",
       "    </tr>\n",
       "    <tr>\n",
       "      <th>2</th>\n",
       "      <td>2041-03-06</td>\n",
       "      <td>66796</td>\n",
       "      <td>18.104110</td>\n",
       "      <td>0.208432</td>\n",
       "      <td>13922.441638</td>\n",
       "      <td>3.460385</td>\n",
       "    </tr>\n",
       "    <tr>\n",
       "      <th>3</th>\n",
       "      <td>2041-02-06</td>\n",
       "      <td>66796</td>\n",
       "      <td>18.027397</td>\n",
       "      <td>0.209822</td>\n",
       "      <td>14015.259643</td>\n",
       "      <td>3.468694</td>\n",
       "    </tr>\n",
       "    <tr>\n",
       "      <th>4</th>\n",
       "      <td>2041-01-06</td>\n",
       "      <td>66796</td>\n",
       "      <td>17.942466</td>\n",
       "      <td>0.211371</td>\n",
       "      <td>14118.744404</td>\n",
       "      <td>3.477844</td>\n",
       "    </tr>\n",
       "    <tr>\n",
       "      <th>...</th>\n",
       "      <td>...</td>\n",
       "      <td>...</td>\n",
       "      <td>...</td>\n",
       "      <td>...</td>\n",
       "      <td>...</td>\n",
       "      <td>...</td>\n",
       "    </tr>\n",
       "    <tr>\n",
       "      <th>215</th>\n",
       "      <td>2023-06-06</td>\n",
       "      <td>66796</td>\n",
       "      <td>0.342466</td>\n",
       "      <td>0.970772</td>\n",
       "      <td>64843.683961</td>\n",
       "      <td>0.304871</td>\n",
       "    </tr>\n",
       "    <tr>\n",
       "      <th>216</th>\n",
       "      <td>2023-05-06</td>\n",
       "      <td>66796</td>\n",
       "      <td>0.257534</td>\n",
       "      <td>0.977940</td>\n",
       "      <td>65322.471607</td>\n",
       "      <td>0.230956</td>\n",
       "    </tr>\n",
       "    <tr>\n",
       "      <th>217</th>\n",
       "      <td>2023-04-06</td>\n",
       "      <td>66796</td>\n",
       "      <td>0.175342</td>\n",
       "      <td>0.984927</td>\n",
       "      <td>65789.180237</td>\n",
       "      <td>0.158370</td>\n",
       "    </tr>\n",
       "    <tr>\n",
       "      <th>218</th>\n",
       "      <td>2023-03-06</td>\n",
       "      <td>66796</td>\n",
       "      <td>0.090411</td>\n",
       "      <td>0.992199</td>\n",
       "      <td>66274.949163</td>\n",
       "      <td>0.082263</td>\n",
       "    </tr>\n",
       "    <tr>\n",
       "      <th>219</th>\n",
       "      <td>2023-02-06</td>\n",
       "      <td>66796</td>\n",
       "      <td>0.013699</td>\n",
       "      <td>0.998814</td>\n",
       "      <td>66716.790377</td>\n",
       "      <td>0.012547</td>\n",
       "    </tr>\n",
       "  </tbody>\n",
       "</table>\n",
       "<p>220 rows × 6 columns</p>\n",
       "</div>"
      ],
      "text/plain": [
       "           date    sum  until_payment        df           npv       dur\n",
       "0    2041-05-06  66796      18.271233  0.205437  13722.353772  3.442138\n",
       "1    2041-04-06  66796      18.189041  0.206905  13820.395698  3.451136\n",
       "2    2041-03-06  66796      18.104110  0.208432  13922.441638  3.460385\n",
       "3    2041-02-06  66796      18.027397  0.209822  14015.259643  3.468694\n",
       "4    2041-01-06  66796      17.942466  0.211371  14118.744404  3.477844\n",
       "..          ...    ...            ...       ...           ...       ...\n",
       "215  2023-06-06  66796       0.342466  0.970772  64843.683961  0.304871\n",
       "216  2023-05-06  66796       0.257534  0.977940  65322.471607  0.230956\n",
       "217  2023-04-06  66796       0.175342  0.984927  65789.180237  0.158370\n",
       "218  2023-03-06  66796       0.090411  0.992199  66274.949163  0.082263\n",
       "219  2023-02-06  66796       0.013699  0.998814  66716.790377  0.012547\n",
       "\n",
       "[220 rows x 6 columns]"
      ]
     },
     "execution_count": 46,
     "metadata": {},
     "output_type": "execute_result"
    }
   ],
   "source": [
    "df = pd.DataFrame(dates, columns=[\"date\"])\n",
    "\n",
    "df['sum'] = amount\n",
    "df['until_payment'] = [x.days/365 for x in df['date']- date.today()]\n",
    "df['df'] = 1./pow(1+rate/100, df['until_payment'])\n",
    "df['npv'] = df['sum'] * df['df']\n",
    "df['dur'] = df['df'] * df['until_payment'] / (1+rate/100)\n",
    "df"
   ]
  },
  {
   "cell_type": "code",
   "execution_count": 47,
   "id": "b98b4a0e",
   "metadata": {},
   "outputs": [],
   "source": [
    "npv = df.npv.sum()\n",
    "duration = df.dur.sum()/df.df.sum()"
   ]
  },
  {
   "cell_type": "code",
   "execution_count": 48,
   "id": "4bc9135d",
   "metadata": {},
   "outputs": [
    {
     "data": {
      "text/plain": [
       "(7379869.161812723, 6.243903647863401, 5119910.220021898)"
      ]
     },
     "execution_count": 48,
     "metadata": {},
     "output_type": "execute_result"
    }
   ],
   "source": [
    "npv, duration, npv*duration/9"
   ]
  }
 ],
 "metadata": {
  "kernelspec": {
   "display_name": "Python 3 (ipykernel)",
   "language": "python",
   "name": "python3"
  },
  "language_info": {
   "codemirror_mode": {
    "name": "ipython",
    "version": 3
   },
   "file_extension": ".py",
   "mimetype": "text/x-python",
   "name": "python",
   "nbconvert_exporter": "python",
   "pygments_lexer": "ipython3",
   "version": "3.10.6"
  }
 },
 "nbformat": 4,
 "nbformat_minor": 5
}
