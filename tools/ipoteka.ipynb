{
 "cells": [
  {
   "cell_type": "code",
   "execution_count": 1,
   "id": "df29e527",
   "metadata": {},
   "outputs": [],
   "source": [
    "import pandas as pd\n",
    "from datetime import date\n",
    "from dateutil.relativedelta import relativedelta"
   ]
  },
  {
   "cell_type": "code",
   "execution_count": 2,
   "id": "3cafa4d9",
   "metadata": {},
   "outputs": [],
   "source": [
    "amount = 66796\n",
    "last = date(2041,5,6)\n",
    "rate = 10.74 * 0.87"
   ]
  },
  {
   "cell_type": "code",
   "execution_count": 3,
   "id": "1fadb7c8",
   "metadata": {},
   "outputs": [],
   "source": [
    "dates = []\n",
    "\n",
    "while last > date.today():\n",
    "    dates.append(last)\n",
    "    last = last - relativedelta(months=1)\n",
    "    "
   ]
  },
  {
   "cell_type": "code",
   "execution_count": 4,
   "id": "82b9d8cd",
   "metadata": {},
   "outputs": [
    {
     "data": {
      "text/html": [
       "<div>\n",
       "<style scoped>\n",
       "    .dataframe tbody tr th:only-of-type {\n",
       "        vertical-align: middle;\n",
       "    }\n",
       "\n",
       "    .dataframe tbody tr th {\n",
       "        vertical-align: top;\n",
       "    }\n",
       "\n",
       "    .dataframe thead th {\n",
       "        text-align: right;\n",
       "    }\n",
       "</style>\n",
       "<table border=\"1\" class=\"dataframe\">\n",
       "  <thead>\n",
       "    <tr style=\"text-align: right;\">\n",
       "      <th></th>\n",
       "      <th>date</th>\n",
       "      <th>sum</th>\n",
       "      <th>until_payment</th>\n",
       "      <th>df</th>\n",
       "      <th>npv</th>\n",
       "      <th>dur</th>\n",
       "    </tr>\n",
       "  </thead>\n",
       "  <tbody>\n",
       "    <tr>\n",
       "      <th>0</th>\n",
       "      <td>2041-05-06</td>\n",
       "      <td>66796</td>\n",
       "      <td>18.189041</td>\n",
       "      <td>0.196957</td>\n",
       "      <td>13155.938524</td>\n",
       "      <td>3.276325</td>\n",
       "    </tr>\n",
       "    <tr>\n",
       "      <th>1</th>\n",
       "      <td>2041-04-06</td>\n",
       "      <td>66796</td>\n",
       "      <td>18.106849</td>\n",
       "      <td>0.198408</td>\n",
       "      <td>13252.884002</td>\n",
       "      <td>3.285554</td>\n",
       "    </tr>\n",
       "    <tr>\n",
       "      <th>2</th>\n",
       "      <td>2041-03-06</td>\n",
       "      <td>66796</td>\n",
       "      <td>18.021918</td>\n",
       "      <td>0.199919</td>\n",
       "      <td>13353.811559</td>\n",
       "      <td>3.295047</td>\n",
       "    </tr>\n",
       "    <tr>\n",
       "      <th>3</th>\n",
       "      <td>2041-02-06</td>\n",
       "      <td>66796</td>\n",
       "      <td>17.945205</td>\n",
       "      <td>0.201294</td>\n",
       "      <td>13445.632413</td>\n",
       "      <td>3.303582</td>\n",
       "    </tr>\n",
       "    <tr>\n",
       "      <th>4</th>\n",
       "      <td>2041-01-06</td>\n",
       "      <td>66796</td>\n",
       "      <td>17.860274</td>\n",
       "      <td>0.202827</td>\n",
       "      <td>13548.027849</td>\n",
       "      <td>3.312986</td>\n",
       "    </tr>\n",
       "    <tr>\n",
       "      <th>...</th>\n",
       "      <td>...</td>\n",
       "      <td>...</td>\n",
       "      <td>...</td>\n",
       "      <td>...</td>\n",
       "      <td>...</td>\n",
       "      <td>...</td>\n",
       "    </tr>\n",
       "    <tr>\n",
       "      <th>214</th>\n",
       "      <td>2023-07-06</td>\n",
       "      <td>66796</td>\n",
       "      <td>0.342466</td>\n",
       "      <td>0.969872</td>\n",
       "      <td>64783.556135</td>\n",
       "      <td>0.303765</td>\n",
       "    </tr>\n",
       "    <tr>\n",
       "      <th>215</th>\n",
       "      <td>2023-06-06</td>\n",
       "      <td>66796</td>\n",
       "      <td>0.260274</td>\n",
       "      <td>0.977019</td>\n",
       "      <td>65260.943041</td>\n",
       "      <td>0.232562</td>\n",
       "    </tr>\n",
       "    <tr>\n",
       "      <th>216</th>\n",
       "      <td>2023-05-06</td>\n",
       "      <td>66796</td>\n",
       "      <td>0.175342</td>\n",
       "      <td>0.984459</td>\n",
       "      <td>65757.938833</td>\n",
       "      <td>0.157867</td>\n",
       "    </tr>\n",
       "    <tr>\n",
       "      <th>217</th>\n",
       "      <td>2023-04-06</td>\n",
       "      <td>66796</td>\n",
       "      <td>0.093151</td>\n",
       "      <td>0.991714</td>\n",
       "      <td>66242.505917</td>\n",
       "      <td>0.084485</td>\n",
       "    </tr>\n",
       "    <tr>\n",
       "      <th>218</th>\n",
       "      <td>2023-03-06</td>\n",
       "      <td>66796</td>\n",
       "      <td>0.008219</td>\n",
       "      <td>0.999266</td>\n",
       "      <td>66746.976818</td>\n",
       "      <td>0.007511</td>\n",
       "    </tr>\n",
       "  </tbody>\n",
       "</table>\n",
       "<p>219 rows × 6 columns</p>\n",
       "</div>"
      ],
      "text/plain": [
       "           date    sum  until_payment        df           npv       dur\n",
       "0    2041-05-06  66796      18.189041  0.196957  13155.938524  3.276325\n",
       "1    2041-04-06  66796      18.106849  0.198408  13252.884002  3.285554\n",
       "2    2041-03-06  66796      18.021918  0.199919  13353.811559  3.295047\n",
       "3    2041-02-06  66796      17.945205  0.201294  13445.632413  3.303582\n",
       "4    2041-01-06  66796      17.860274  0.202827  13548.027849  3.312986\n",
       "..          ...    ...            ...       ...           ...       ...\n",
       "214  2023-07-06  66796       0.342466  0.969872  64783.556135  0.303765\n",
       "215  2023-06-06  66796       0.260274  0.977019  65260.943041  0.232562\n",
       "216  2023-05-06  66796       0.175342  0.984459  65757.938833  0.157867\n",
       "217  2023-04-06  66796       0.093151  0.991714  66242.505917  0.084485\n",
       "218  2023-03-06  66796       0.008219  0.999266  66746.976818  0.007511\n",
       "\n",
       "[219 rows x 6 columns]"
      ]
     },
     "execution_count": 4,
     "metadata": {},
     "output_type": "execute_result"
    }
   ],
   "source": [
    "df = pd.DataFrame(dates, columns=[\"date\"])\n",
    "\n",
    "df['sum'] = amount\n",
    "df['until_payment'] = [x.days/365 for x in df['date']- date.today()]\n",
    "df['df'] = 1./pow(1+rate/100, df['until_payment'])\n",
    "df['npv'] = df['sum'] * df['df']\n",
    "df['dur'] = df['df'] * df['until_payment'] / (1+rate/100)\n",
    "df"
   ]
  },
  {
   "cell_type": "code",
   "execution_count": 5,
   "id": "b98b4a0e",
   "metadata": {},
   "outputs": [],
   "source": [
    "npv = df.npv.sum()\n",
    "duration = df.dur.sum()/df.df.sum()"
   ]
  },
  {
   "cell_type": "code",
   "execution_count": 6,
   "id": "4bc9135d",
   "metadata": {},
   "outputs": [
    {
     "data": {
      "text/plain": [
       "(7231844.552223165, 6.147733357687514, 4939939.110145897)"
      ]
     },
     "execution_count": 6,
     "metadata": {},
     "output_type": "execute_result"
    }
   ],
   "source": [
    "npv, duration, npv*duration/9"
   ]
  },
  {
   "cell_type": "code",
   "execution_count": null,
   "id": "d899ea91",
   "metadata": {},
   "outputs": [],
   "source": []
  }
 ],
 "metadata": {
  "kernelspec": {
   "display_name": "Python 3 (ipykernel)",
   "language": "python",
   "name": "python3"
  },
  "language_info": {
   "codemirror_mode": {
    "name": "ipython",
    "version": 3
   },
   "file_extension": ".py",
   "mimetype": "text/x-python",
   "name": "python",
   "nbconvert_exporter": "python",
   "pygments_lexer": "ipython3",
   "version": "3.10.6"
  }
 },
 "nbformat": 4,
 "nbformat_minor": 5
}
