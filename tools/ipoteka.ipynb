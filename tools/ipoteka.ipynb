{
 "cells": [
  {
   "cell_type": "code",
   "execution_count": 12,
   "id": "df29e527",
   "metadata": {},
   "outputs": [],
   "source": [
    "import pandas as pd\n",
    "from datetime import date\n",
    "from dateutil.relativedelta import relativedelta"
   ]
  },
  {
   "cell_type": "code",
   "execution_count": 13,
   "id": "3cafa4d9",
   "metadata": {},
   "outputs": [],
   "source": [
    "amount = 66796\n",
    "last = date(2041,5,6)\n",
    "rate = 10.5 * 0.87"
   ]
  },
  {
   "cell_type": "code",
   "execution_count": 14,
   "id": "1fadb7c8",
   "metadata": {},
   "outputs": [],
   "source": [
    "dates = []\n",
    "\n",
    "while last > date.today():\n",
    "    dates.append(last)\n",
    "    last = last - relativedelta(months=1)\n",
    "    "
   ]
  },
  {
   "cell_type": "code",
   "execution_count": 15,
   "id": "82b9d8cd",
   "metadata": {},
   "outputs": [
    {
     "data": {
      "text/html": [
       "<div>\n",
       "<style scoped>\n",
       "    .dataframe tbody tr th:only-of-type {\n",
       "        vertical-align: middle;\n",
       "    }\n",
       "\n",
       "    .dataframe tbody tr th {\n",
       "        vertical-align: top;\n",
       "    }\n",
       "\n",
       "    .dataframe thead th {\n",
       "        text-align: right;\n",
       "    }\n",
       "</style>\n",
       "<table border=\"1\" class=\"dataframe\">\n",
       "  <thead>\n",
       "    <tr style=\"text-align: right;\">\n",
       "      <th></th>\n",
       "      <th>date</th>\n",
       "      <th>sum</th>\n",
       "      <th>until_payment</th>\n",
       "      <th>df</th>\n",
       "      <th>npv</th>\n",
       "      <th>dur</th>\n",
       "    </tr>\n",
       "  </thead>\n",
       "  <tbody>\n",
       "    <tr>\n",
       "      <th>0</th>\n",
       "      <td>2041-05-06</td>\n",
       "      <td>66796</td>\n",
       "      <td>18.249315</td>\n",
       "      <td>0.202853</td>\n",
       "      <td>13549.787852</td>\n",
       "      <td>3.392068</td>\n",
       "    </tr>\n",
       "    <tr>\n",
       "      <th>1</th>\n",
       "      <td>2041-04-06</td>\n",
       "      <td>66796</td>\n",
       "      <td>18.167123</td>\n",
       "      <td>0.204316</td>\n",
       "      <td>13647.491380</td>\n",
       "      <td>3.401140</td>\n",
       "    </tr>\n",
       "    <tr>\n",
       "      <th>2</th>\n",
       "      <td>2041-03-06</td>\n",
       "      <td>66796</td>\n",
       "      <td>18.082192</td>\n",
       "      <td>0.205839</td>\n",
       "      <td>13749.191879</td>\n",
       "      <td>3.410466</td>\n",
       "    </tr>\n",
       "    <tr>\n",
       "      <th>3</th>\n",
       "      <td>2041-02-06</td>\n",
       "      <td>66796</td>\n",
       "      <td>18.005479</td>\n",
       "      <td>0.207224</td>\n",
       "      <td>13841.701642</td>\n",
       "      <td>3.418847</td>\n",
       "    </tr>\n",
       "    <tr>\n",
       "      <th>4</th>\n",
       "      <td>2041-01-06</td>\n",
       "      <td>66796</td>\n",
       "      <td>17.920548</td>\n",
       "      <td>0.208768</td>\n",
       "      <td>13944.849387</td>\n",
       "      <td>3.428077</td>\n",
       "    </tr>\n",
       "    <tr>\n",
       "      <th>...</th>\n",
       "      <td>...</td>\n",
       "      <td>...</td>\n",
       "      <td>...</td>\n",
       "      <td>...</td>\n",
       "      <td>...</td>\n",
       "      <td>...</td>\n",
       "    </tr>\n",
       "    <tr>\n",
       "      <th>214</th>\n",
       "      <td>2023-07-06</td>\n",
       "      <td>66796</td>\n",
       "      <td>0.402740</td>\n",
       "      <td>0.965407</td>\n",
       "      <td>64485.314731</td>\n",
       "      <td>0.356263</td>\n",
       "    </tr>\n",
       "    <tr>\n",
       "      <th>215</th>\n",
       "      <td>2023-06-06</td>\n",
       "      <td>66796</td>\n",
       "      <td>0.320548</td>\n",
       "      <td>0.972368</td>\n",
       "      <td>64950.299334</td>\n",
       "      <td>0.285601</td>\n",
       "    </tr>\n",
       "    <tr>\n",
       "      <th>216</th>\n",
       "      <td>2023-05-06</td>\n",
       "      <td>66796</td>\n",
       "      <td>0.235616</td>\n",
       "      <td>0.979614</td>\n",
       "      <td>65434.306078</td>\n",
       "      <td>0.211493</td>\n",
       "    </tr>\n",
       "    <tr>\n",
       "      <th>217</th>\n",
       "      <td>2023-04-06</td>\n",
       "      <td>66796</td>\n",
       "      <td>0.153425</td>\n",
       "      <td>0.986678</td>\n",
       "      <td>65906.133577</td>\n",
       "      <td>0.138710</td>\n",
       "    </tr>\n",
       "    <tr>\n",
       "      <th>218</th>\n",
       "      <td>2023-03-06</td>\n",
       "      <td>66796</td>\n",
       "      <td>0.068493</td>\n",
       "      <td>0.994031</td>\n",
       "      <td>66397.263156</td>\n",
       "      <td>0.062385</td>\n",
       "    </tr>\n",
       "  </tbody>\n",
       "</table>\n",
       "<p>219 rows × 6 columns</p>\n",
       "</div>"
      ],
      "text/plain": [
       "           date    sum  until_payment        df           npv       dur\n",
       "0    2041-05-06  66796      18.249315  0.202853  13549.787852  3.392068\n",
       "1    2041-04-06  66796      18.167123  0.204316  13647.491380  3.401140\n",
       "2    2041-03-06  66796      18.082192  0.205839  13749.191879  3.410466\n",
       "3    2041-02-06  66796      18.005479  0.207224  13841.701642  3.418847\n",
       "4    2041-01-06  66796      17.920548  0.208768  13944.849387  3.428077\n",
       "..          ...    ...            ...       ...           ...       ...\n",
       "214  2023-07-06  66796       0.402740  0.965407  64485.314731  0.356263\n",
       "215  2023-06-06  66796       0.320548  0.972368  64950.299334  0.285601\n",
       "216  2023-05-06  66796       0.235616  0.979614  65434.306078  0.211493\n",
       "217  2023-04-06  66796       0.153425  0.986678  65906.133577  0.138710\n",
       "218  2023-03-06  66796       0.068493  0.994031  66397.263156  0.062385\n",
       "\n",
       "[219 rows x 6 columns]"
      ]
     },
     "execution_count": 15,
     "metadata": {},
     "output_type": "execute_result"
    }
   ],
   "source": [
    "df = pd.DataFrame(dates, columns=[\"date\"])\n",
    "\n",
    "df['sum'] = amount\n",
    "df['until_payment'] = [x.days/365 for x in df['date']- date.today()]\n",
    "df['df'] = 1./pow(1+rate/100, df['until_payment'])\n",
    "df['npv'] = df['sum'] * df['df']\n",
    "df['dur'] = df['df'] * df['until_payment'] / (1+rate/100)\n",
    "df"
   ]
  },
  {
   "cell_type": "code",
   "execution_count": 16,
   "id": "b98b4a0e",
   "metadata": {},
   "outputs": [],
   "source": [
    "npv = df.npv.sum()\n",
    "duration = df.dur.sum()/df.df.sum()"
   ]
  },
  {
   "cell_type": "code",
   "execution_count": 17,
   "id": "4bc9135d",
   "metadata": {},
   "outputs": [
    {
     "data": {
      "text/plain": [
       "(7287195.281937933, 6.257663488535851, 5066757.316623746)"
      ]
     },
     "execution_count": 17,
     "metadata": {},
     "output_type": "execute_result"
    }
   ],
   "source": [
    "npv, duration, npv*duration/9"
   ]
  },
  {
   "cell_type": "code",
   "execution_count": null,
   "id": "d899ea91",
   "metadata": {},
   "outputs": [],
   "source": []
  }
 ],
 "metadata": {
  "kernelspec": {
   "display_name": "Python 3 (ipykernel)",
   "language": "python",
   "name": "python3"
  },
  "language_info": {
   "codemirror_mode": {
    "name": "ipython",
    "version": 3
   },
   "file_extension": ".py",
   "mimetype": "text/x-python",
   "name": "python",
   "nbconvert_exporter": "python",
   "pygments_lexer": "ipython3",
   "version": "3.10.6"
  }
 },
 "nbformat": 4,
 "nbformat_minor": 5
}
