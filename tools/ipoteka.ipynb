{
 "cells": [
  {
   "cell_type": "code",
   "execution_count": 1,
   "id": "df29e527",
   "metadata": {},
   "outputs": [],
   "source": [
    "import pandas as pd\n",
    "from datetime import date\n",
    "from dateutil.relativedelta import relativedelta"
   ]
  },
  {
   "cell_type": "code",
   "execution_count": 2,
   "id": "3cafa4d9",
   "metadata": {},
   "outputs": [],
   "source": [
    "amount = 66796\n",
    "last = date(2041,5,6)\n",
    "rate = 10.9 * 0.87"
   ]
  },
  {
   "cell_type": "code",
   "execution_count": 3,
   "id": "1fadb7c8",
   "metadata": {},
   "outputs": [],
   "source": [
    "dates = []\n",
    "\n",
    "while last > date.today():\n",
    "    dates.append(last)\n",
    "    last = last - relativedelta(months=1)\n",
    "    "
   ]
  },
  {
   "cell_type": "code",
   "execution_count": 4,
   "id": "82b9d8cd",
   "metadata": {},
   "outputs": [
    {
     "data": {
      "text/html": [
       "<div>\n",
       "<style scoped>\n",
       "    .dataframe tbody tr th:only-of-type {\n",
       "        vertical-align: middle;\n",
       "    }\n",
       "\n",
       "    .dataframe tbody tr th {\n",
       "        vertical-align: top;\n",
       "    }\n",
       "\n",
       "    .dataframe thead th {\n",
       "        text-align: right;\n",
       "    }\n",
       "</style>\n",
       "<table border=\"1\" class=\"dataframe\">\n",
       "  <thead>\n",
       "    <tr style=\"text-align: right;\">\n",
       "      <th></th>\n",
       "      <th>date</th>\n",
       "      <th>sum</th>\n",
       "      <th>until_payment</th>\n",
       "      <th>df</th>\n",
       "      <th>npv</th>\n",
       "      <th>dur</th>\n",
       "    </tr>\n",
       "  </thead>\n",
       "  <tbody>\n",
       "    <tr>\n",
       "      <th>0</th>\n",
       "      <td>2041-05-06</td>\n",
       "      <td>66796</td>\n",
       "      <td>17.912329</td>\n",
       "      <td>0.197337</td>\n",
       "      <td>13181.341831</td>\n",
       "      <td>3.228602</td>\n",
       "    </tr>\n",
       "    <tr>\n",
       "      <th>1</th>\n",
       "      <td>2041-04-06</td>\n",
       "      <td>66796</td>\n",
       "      <td>17.830137</td>\n",
       "      <td>0.198812</td>\n",
       "      <td>13279.863075</td>\n",
       "      <td>3.237808</td>\n",
       "    </tr>\n",
       "    <tr>\n",
       "      <th>2</th>\n",
       "      <td>2041-03-06</td>\n",
       "      <td>66796</td>\n",
       "      <td>17.745205</td>\n",
       "      <td>0.200348</td>\n",
       "      <td>13382.442029</td>\n",
       "      <td>3.247276</td>\n",
       "    </tr>\n",
       "    <tr>\n",
       "      <th>3</th>\n",
       "      <td>2041-02-06</td>\n",
       "      <td>66796</td>\n",
       "      <td>17.668493</td>\n",
       "      <td>0.201745</td>\n",
       "      <td>13475.774870</td>\n",
       "      <td>3.255788</td>\n",
       "    </tr>\n",
       "    <tr>\n",
       "      <th>4</th>\n",
       "      <td>2041-01-06</td>\n",
       "      <td>66796</td>\n",
       "      <td>17.583562</td>\n",
       "      <td>0.203304</td>\n",
       "      <td>13579.867125</td>\n",
       "      <td>3.265166</td>\n",
       "    </tr>\n",
       "    <tr>\n",
       "      <th>...</th>\n",
       "      <td>...</td>\n",
       "      <td>...</td>\n",
       "      <td>...</td>\n",
       "      <td>...</td>\n",
       "      <td>...</td>\n",
       "      <td>...</td>\n",
       "    </tr>\n",
       "    <tr>\n",
       "      <th>210</th>\n",
       "      <td>2023-11-06</td>\n",
       "      <td>66796</td>\n",
       "      <td>0.402740</td>\n",
       "      <td>0.964170</td>\n",
       "      <td>64402.686094</td>\n",
       "      <td>0.354676</td>\n",
       "    </tr>\n",
       "    <tr>\n",
       "      <th>211</th>\n",
       "      <td>2023-10-06</td>\n",
       "      <td>66796</td>\n",
       "      <td>0.317808</td>\n",
       "      <td>0.971617</td>\n",
       "      <td>64900.158106</td>\n",
       "      <td>0.282042</td>\n",
       "    </tr>\n",
       "    <tr>\n",
       "      <th>212</th>\n",
       "      <td>2023-09-06</td>\n",
       "      <td>66796</td>\n",
       "      <td>0.235616</td>\n",
       "      <td>0.978880</td>\n",
       "      <td>65385.241067</td>\n",
       "      <td>0.210663</td>\n",
       "    </tr>\n",
       "    <tr>\n",
       "      <th>213</th>\n",
       "      <td>2023-08-06</td>\n",
       "      <td>66796</td>\n",
       "      <td>0.150685</td>\n",
       "      <td>0.986441</td>\n",
       "      <td>65890.302725</td>\n",
       "      <td>0.135767</td>\n",
       "    </tr>\n",
       "    <tr>\n",
       "      <th>214</th>\n",
       "      <td>2023-07-06</td>\n",
       "      <td>66796</td>\n",
       "      <td>0.065753</td>\n",
       "      <td>0.994061</td>\n",
       "      <td>66399.265682</td>\n",
       "      <td>0.059701</td>\n",
       "    </tr>\n",
       "  </tbody>\n",
       "</table>\n",
       "<p>215 rows × 6 columns</p>\n",
       "</div>"
      ],
      "text/plain": [
       "           date    sum  until_payment        df           npv       dur\n",
       "0    2041-05-06  66796      17.912329  0.197337  13181.341831  3.228602\n",
       "1    2041-04-06  66796      17.830137  0.198812  13279.863075  3.237808\n",
       "2    2041-03-06  66796      17.745205  0.200348  13382.442029  3.247276\n",
       "3    2041-02-06  66796      17.668493  0.201745  13475.774870  3.255788\n",
       "4    2041-01-06  66796      17.583562  0.203304  13579.867125  3.265166\n",
       "..          ...    ...            ...       ...           ...       ...\n",
       "210  2023-11-06  66796       0.402740  0.964170  64402.686094  0.354676\n",
       "211  2023-10-06  66796       0.317808  0.971617  64900.158106  0.282042\n",
       "212  2023-09-06  66796       0.235616  0.978880  65385.241067  0.210663\n",
       "213  2023-08-06  66796       0.150685  0.986441  65890.302725  0.135767\n",
       "214  2023-07-06  66796       0.065753  0.994061  66399.265682  0.059701\n",
       "\n",
       "[215 rows x 6 columns]"
      ]
     },
     "execution_count": 4,
     "metadata": {},
     "output_type": "execute_result"
    }
   ],
   "source": [
    "df = pd.DataFrame(dates, columns=[\"date\"])\n",
    "\n",
    "df['sum'] = amount\n",
    "df['until_payment'] = [x.days/365 for x in df['date']- date.today()]\n",
    "df['df'] = 1./pow(1+rate/100, df['until_payment'])\n",
    "df['npv'] = df['sum'] * df['df']\n",
    "df['dur'] = df['df'] * df['until_payment'] / (1+rate/100)\n",
    "df"
   ]
  },
  {
   "cell_type": "code",
   "execution_count": 5,
   "id": "b98b4a0e",
   "metadata": {},
   "outputs": [],
   "source": [
    "npv = df.npv.sum()\n",
    "duration = df.dur.sum()/df.df.sum()"
   ]
  },
  {
   "cell_type": "code",
   "execution_count": 6,
   "id": "4bc9135d",
   "metadata": {},
   "outputs": [
    {
     "data": {
      "text/plain": [
       "(7081770.489899548, 6.087731580147451, 4790213.09496864)"
      ]
     },
     "execution_count": 6,
     "metadata": {},
     "output_type": "execute_result"
    }
   ],
   "source": [
    "npv, duration, npv*duration/9"
   ]
  },
  {
   "cell_type": "code",
   "execution_count": null,
   "id": "d899ea91",
   "metadata": {},
   "outputs": [],
   "source": []
  }
 ],
 "metadata": {
  "kernelspec": {
   "display_name": "Python 3 (ipykernel)",
   "language": "python",
   "name": "python3"
  },
  "language_info": {
   "codemirror_mode": {
    "name": "ipython",
    "version": 3
   },
   "file_extension": ".py",
   "mimetype": "text/x-python",
   "name": "python",
   "nbconvert_exporter": "python",
   "pygments_lexer": "ipython3",
   "version": "3.10.6"
  }
 },
 "nbformat": 4,
 "nbformat_minor": 5
}
