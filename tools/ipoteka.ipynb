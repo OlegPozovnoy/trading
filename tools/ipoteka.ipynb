{
 "cells": [
  {
   "cell_type": "code",
   "execution_count": 1,
   "id": "df29e527",
   "metadata": {},
   "outputs": [],
   "source": [
    "import pandas as pd\n",
    "from datetime import date\n",
    "from dateutil.relativedelta import relativedelta"
   ]
  },
  {
   "cell_type": "code",
   "execution_count": 2,
   "id": "3cafa4d9",
   "metadata": {},
   "outputs": [],
   "source": [
    "amount = 66796\n",
    "last = date(2041,5,6)\n",
    "rate = 10.7 * 0.87"
   ]
  },
  {
   "cell_type": "code",
   "execution_count": 3,
   "id": "1fadb7c8",
   "metadata": {},
   "outputs": [],
   "source": [
    "dates = []\n",
    "\n",
    "while last > date.today():\n",
    "    dates.append(last)\n",
    "    last = last - relativedelta(months=1)\n",
    "    "
   ]
  },
  {
   "cell_type": "code",
   "execution_count": 4,
   "id": "82b9d8cd",
   "metadata": {},
   "outputs": [
    {
     "data": {
      "text/html": [
       "<div>\n",
       "<style scoped>\n",
       "    .dataframe tbody tr th:only-of-type {\n",
       "        vertical-align: middle;\n",
       "    }\n",
       "\n",
       "    .dataframe tbody tr th {\n",
       "        vertical-align: top;\n",
       "    }\n",
       "\n",
       "    .dataframe thead th {\n",
       "        text-align: right;\n",
       "    }\n",
       "</style>\n",
       "<table border=\"1\" class=\"dataframe\">\n",
       "  <thead>\n",
       "    <tr style=\"text-align: right;\">\n",
       "      <th></th>\n",
       "      <th>date</th>\n",
       "      <th>sum</th>\n",
       "      <th>until_payment</th>\n",
       "      <th>df</th>\n",
       "      <th>npv</th>\n",
       "      <th>dur</th>\n",
       "    </tr>\n",
       "  </thead>\n",
       "  <tbody>\n",
       "    <tr>\n",
       "      <th>0</th>\n",
       "      <td>2041-05-06</td>\n",
       "      <td>66796</td>\n",
       "      <td>18.224658</td>\n",
       "      <td>0.197474</td>\n",
       "      <td>13190.447507</td>\n",
       "      <td>3.292400</td>\n",
       "    </tr>\n",
       "    <tr>\n",
       "      <th>1</th>\n",
       "      <td>2041-04-06</td>\n",
       "      <td>66796</td>\n",
       "      <td>18.142466</td>\n",
       "      <td>0.198924</td>\n",
       "      <td>13287.299644</td>\n",
       "      <td>3.301617</td>\n",
       "    </tr>\n",
       "    <tr>\n",
       "      <th>2</th>\n",
       "      <td>2041-03-06</td>\n",
       "      <td>66796</td>\n",
       "      <td>18.057534</td>\n",
       "      <td>0.200433</td>\n",
       "      <td>13388.127344</td>\n",
       "      <td>3.311097</td>\n",
       "    </tr>\n",
       "    <tr>\n",
       "      <th>3</th>\n",
       "      <td>2041-02-06</td>\n",
       "      <td>66796</td>\n",
       "      <td>17.980822</td>\n",
       "      <td>0.201806</td>\n",
       "      <td>13479.854991</td>\n",
       "      <td>3.319620</td>\n",
       "    </tr>\n",
       "    <tr>\n",
       "      <th>4</th>\n",
       "      <td>2041-01-06</td>\n",
       "      <td>66796</td>\n",
       "      <td>17.895890</td>\n",
       "      <td>0.203338</td>\n",
       "      <td>13582.143854</td>\n",
       "      <td>3.329011</td>\n",
       "    </tr>\n",
       "    <tr>\n",
       "      <th>...</th>\n",
       "      <td>...</td>\n",
       "      <td>...</td>\n",
       "      <td>...</td>\n",
       "      <td>...</td>\n",
       "      <td>...</td>\n",
       "      <td>...</td>\n",
       "    </tr>\n",
       "    <tr>\n",
       "      <th>214</th>\n",
       "      <td>2023-07-06</td>\n",
       "      <td>66796</td>\n",
       "      <td>0.378082</td>\n",
       "      <td>0.966907</td>\n",
       "      <td>64585.546774</td>\n",
       "      <td>0.334438</td>\n",
       "    </tr>\n",
       "    <tr>\n",
       "      <th>215</th>\n",
       "      <td>2023-06-06</td>\n",
       "      <td>66796</td>\n",
       "      <td>0.295890</td>\n",
       "      <td>0.974007</td>\n",
       "      <td>65059.772396</td>\n",
       "      <td>0.263656</td>\n",
       "    </tr>\n",
       "    <tr>\n",
       "      <th>216</th>\n",
       "      <td>2023-05-06</td>\n",
       "      <td>66796</td>\n",
       "      <td>0.210959</td>\n",
       "      <td>0.981398</td>\n",
       "      <td>65553.463921</td>\n",
       "      <td>0.189403</td>\n",
       "    </tr>\n",
       "    <tr>\n",
       "      <th>217</th>\n",
       "      <td>2023-04-06</td>\n",
       "      <td>66796</td>\n",
       "      <td>0.128767</td>\n",
       "      <td>0.988604</td>\n",
       "      <td>66034.796569</td>\n",
       "      <td>0.116459</td>\n",
       "    </tr>\n",
       "    <tr>\n",
       "      <th>218</th>\n",
       "      <td>2023-03-06</td>\n",
       "      <td>66796</td>\n",
       "      <td>0.043836</td>\n",
       "      <td>0.996106</td>\n",
       "      <td>66535.886847</td>\n",
       "      <td>0.039946</td>\n",
       "    </tr>\n",
       "  </tbody>\n",
       "</table>\n",
       "<p>219 rows × 6 columns</p>\n",
       "</div>"
      ],
      "text/plain": [
       "           date    sum  until_payment        df           npv       dur\n",
       "0    2041-05-06  66796      18.224658  0.197474  13190.447507  3.292400\n",
       "1    2041-04-06  66796      18.142466  0.198924  13287.299644  3.301617\n",
       "2    2041-03-06  66796      18.057534  0.200433  13388.127344  3.311097\n",
       "3    2041-02-06  66796      17.980822  0.201806  13479.854991  3.319620\n",
       "4    2041-01-06  66796      17.895890  0.203338  13582.143854  3.329011\n",
       "..          ...    ...            ...       ...           ...       ...\n",
       "214  2023-07-06  66796       0.378082  0.966907  64585.546774  0.334438\n",
       "215  2023-06-06  66796       0.295890  0.974007  65059.772396  0.263656\n",
       "216  2023-05-06  66796       0.210959  0.981398  65553.463921  0.189403\n",
       "217  2023-04-06  66796       0.128767  0.988604  66034.796569  0.116459\n",
       "218  2023-03-06  66796       0.043836  0.996106  66535.886847  0.039946\n",
       "\n",
       "[219 rows x 6 columns]"
      ]
     },
     "execution_count": 4,
     "metadata": {},
     "output_type": "execute_result"
    }
   ],
   "source": [
    "df = pd.DataFrame(dates, columns=[\"date\"])\n",
    "\n",
    "df['sum'] = amount\n",
    "df['until_payment'] = [x.days/365 for x in df['date']- date.today()]\n",
    "df['df'] = 1./pow(1+rate/100, df['until_payment'])\n",
    "df['npv'] = df['sum'] * df['df']\n",
    "df['dur'] = df['df'] * df['until_payment'] / (1+rate/100)\n",
    "df"
   ]
  },
  {
   "cell_type": "code",
   "execution_count": 5,
   "id": "b98b4a0e",
   "metadata": {},
   "outputs": [],
   "source": [
    "npv = df.npv.sum()\n",
    "duration = df.dur.sum()/df.df.sum()"
   ]
  },
  {
   "cell_type": "code",
   "execution_count": 6,
   "id": "4bc9135d",
   "metadata": {},
   "outputs": [
    {
     "data": {
      "text/plain": [
       "(7224405.536041843, 6.1893977276364165, 4968302.134255704)"
      ]
     },
     "execution_count": 6,
     "metadata": {},
     "output_type": "execute_result"
    }
   ],
   "source": [
    "npv, duration, npv*duration/9"
   ]
  },
  {
   "cell_type": "code",
   "execution_count": null,
   "id": "d899ea91",
   "metadata": {},
   "outputs": [],
   "source": []
  }
 ],
 "metadata": {
  "kernelspec": {
   "display_name": "Python 3 (ipykernel)",
   "language": "python",
   "name": "python3"
  },
  "language_info": {
   "codemirror_mode": {
    "name": "ipython",
    "version": 3
   },
   "file_extension": ".py",
   "mimetype": "text/x-python",
   "name": "python",
   "nbconvert_exporter": "python",
   "pygments_lexer": "ipython3",
   "version": "3.10.6"
  }
 },
 "nbformat": 4,
 "nbformat_minor": 5
}
