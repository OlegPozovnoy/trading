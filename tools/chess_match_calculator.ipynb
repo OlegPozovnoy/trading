{
 "cells": [
  {
   "cell_type": "code",
   "execution_count": 1,
   "id": "9d29bcca",
   "metadata": {},
   "outputs": [
    {
     "name": "stdout",
     "output_type": "stream",
     "text": [
      "w:976,d:311,l:713, k=1.7305327868852458\n"
     ]
    }
   ],
   "source": [
    "from scipy.stats import binom\n",
    "\n",
    "k=13.5/26\n",
    "simuls = 2000\n",
    "size=24\n",
    "gap = 0\n",
    "\n",
    "w, d ,l = 0 ,0,0\n",
    "for _ in range(simuls):\n",
    "    c = sum(binom.rvs(1, k, size=size))\n",
    "    if c-gap/2>size/2: \n",
    "        w+=1\n",
    "    elif c-gap/2==size/2:\n",
    "        d+=1\n",
    "    else:\n",
    "        l+=1\n",
    "    \n",
    "    \n",
    "print (f'w:{w},d:{d},l:{l}, k={(w+l)/w}')"
   ]
  },
  {
   "cell_type": "code",
   "execution_count": 2,
   "id": "199a3550",
   "metadata": {},
   "outputs": [
    {
     "data": {
      "text/plain": [
       "765000540"
      ]
     },
     "execution_count": 2,
     "metadata": {},
     "output_type": "execute_result"
    }
   ],
   "source": [
    "import datetime\n",
    "\n",
    "int((datetime.datetime.utcnow() - datetime.datetime(2023,1,1)).total_seconds()*1000000)%1000000000"
   ]
  },
  {
   "cell_type": "code",
   "execution_count": null,
   "id": "4ece89a9",
   "metadata": {},
   "outputs": [],
   "source": []
  }
 ],
 "metadata": {
  "kernelspec": {
   "display_name": "Python 3 (ipykernel)",
   "language": "python",
   "name": "python3"
  },
  "language_info": {
   "codemirror_mode": {
    "name": "ipython",
    "version": 3
   },
   "file_extension": ".py",
   "mimetype": "text/x-python",
   "name": "python",
   "nbconvert_exporter": "python",
   "pygments_lexer": "ipython3",
   "version": "3.10.12"
  }
 },
 "nbformat": 4,
 "nbformat_minor": 5
}
