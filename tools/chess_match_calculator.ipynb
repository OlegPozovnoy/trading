{
 "cells": [
  {
   "cell_type": "code",
   "execution_count": 4,
   "id": "9d29bcca",
   "metadata": {},
   "outputs": [
    {
     "name": "stdout",
     "output_type": "stream",
     "text": [
      "w:986,d:449,l:565, k=1.5730223123732252\n"
     ]
    }
   ],
   "source": [
    "from scipy.stats import binom\n",
    "\n",
    "k=0.54\n",
    "simuls = 2000\n",
    "size=12\n",
    "\n",
    "w, d ,l = 0 ,0,0\n",
    "for _ in range(simuls):\n",
    "    c = sum(binom.rvs(1, k, size=size))\n",
    "    if c>size/2: \n",
    "        w+=1\n",
    "    elif c==size/2:\n",
    "        d+=1\n",
    "    else:\n",
    "        l+=1\n",
    "    \n",
    "    \n",
    "print (f'w:{w},d:{d},l:{l}, k={(w+l)/w}')"
   ]
  }
 ],
 "metadata": {
  "kernelspec": {
   "display_name": "Python 3 (ipykernel)",
   "language": "python",
   "name": "python3"
  },
  "language_info": {
   "codemirror_mode": {
    "name": "ipython",
    "version": 3
   },
   "file_extension": ".py",
   "mimetype": "text/x-python",
   "name": "python",
   "nbconvert_exporter": "python",
   "pygments_lexer": "ipython3",
   "version": "3.10.6"
  }
 },
 "nbformat": 4,
 "nbformat_minor": 5
}
